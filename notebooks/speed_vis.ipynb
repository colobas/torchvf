{
 "cells": [
  {
   "cell_type": "code",
   "execution_count": 1,
   "id": "52acb153-7db0-4d1b-b9f8-4dcfe58afa1a",
   "metadata": {},
   "outputs": [],
   "source": [
    "import numpy as np\n",
    "import altair as alt\n",
    "import pandas as pd"
   ]
  },
  {
   "cell_type": "code",
   "execution_count": 2,
   "id": "b1a1fa27-fba0-4df5-943b-185f622d999f",
   "metadata": {},
   "outputs": [
    {
     "name": "stdout",
     "output_type": "stream",
     "text": [
      "3.3590013417168714\n",
      "3.4991044871589856\n",
      "2.930327346834798\n",
      "avg: 3.262811058570218\n"
     ]
    }
   ],
   "source": [
    "data = {\n",
    "    \"Omnipose Fluor\": 12767.9,\n",
    "    \"H1 Fluor\"      : 3801.1,\n",
    "    \"Omnipose Phase\": 21881.3,\n",
    "    \"H1 Phase\"      : 6253.4,\n",
    "    \"Omnipose Worm\" : 4601.2,\n",
    "    \"H1 Worm\"       : 1570.2,\n",
    "}\n",
    "\n",
    "\n",
    "fluor_ = data[\"Omnipose Fluor\"] / data[\"H1 Fluor\"]\n",
    "phase_ = data[\"Omnipose Phase\"] / data[\"H1 Phase\"]\n",
    "worm_  = data[\"Omnipose Worm\"] / data[\"H1 Worm\"]\n",
    "\n",
    "print(fluor_)\n",
    "print(phase_)\n",
    "print(worm_)\n",
    "\n",
    "print(\"avg:\", (fluor_ + phase_ + worm_) / 3)\n",
    "\n",
    "data = {\n",
    "    \"Subset\": [\n",
    "        \"Bacterial Fluorescence\",\n",
    "        \"Bacterial Fluorescence\",\n",
    "        \"Bacterial Phase Contrast\",\n",
    "        \"Bacterial Phase Contrast\",\n",
    "        \"Worm\",\n",
    "        \"Worm\"\n",
    "    ],\n",
    "    \"Method\": [\n",
    "        \"Omnipose\",\n",
    "        \"H1\",\n",
    "        \"Omnipose\",\n",
    "        \"H1\",\n",
    "        \"Omnipose\",\n",
    "        \"H1\"\n",
    "    ],\n",
    "    \"Value\": [\n",
    "        12767.9 / 3600,\n",
    "        3801.1 / 3600,\n",
    "        21881.3 / 3600,\n",
    "        6253.4 / 3600,\n",
    "        4601.2 / 3600,\n",
    "        1570.2 / 3600,\n",
    "    ]\n",
    "}\n",
    "\n",
    "source = pd.DataFrame(data = data)"
   ]
  },
  {
   "cell_type": "code",
   "execution_count": 3,
   "id": "293864cb-4661-404a-bec2-f63a774e115b",
   "metadata": {},
   "outputs": [
    {
     "data": {
      "text/html": [
       "\n",
       "<div id=\"altair-viz-ca3f00dfbd43405bb998751137171d7f\"></div>\n",
       "<script type=\"text/javascript\">\n",
       "  var VEGA_DEBUG = (typeof VEGA_DEBUG == \"undefined\") ? {} : VEGA_DEBUG;\n",
       "  (function(spec, embedOpt){\n",
       "    let outputDiv = document.currentScript.previousElementSibling;\n",
       "    if (outputDiv.id !== \"altair-viz-ca3f00dfbd43405bb998751137171d7f\") {\n",
       "      outputDiv = document.getElementById(\"altair-viz-ca3f00dfbd43405bb998751137171d7f\");\n",
       "    }\n",
       "    const paths = {\n",
       "      \"vega\": \"https://cdn.jsdelivr.net/npm//vega@5?noext\",\n",
       "      \"vega-lib\": \"https://cdn.jsdelivr.net/npm//vega-lib?noext\",\n",
       "      \"vega-lite\": \"https://cdn.jsdelivr.net/npm//vega-lite@5.2.0?noext\",\n",
       "      \"vega-embed\": \"https://cdn.jsdelivr.net/npm//vega-embed@6?noext\",\n",
       "    };\n",
       "\n",
       "    function maybeLoadScript(lib, version) {\n",
       "      var key = `${lib.replace(\"-\", \"\")}_version`;\n",
       "      return (VEGA_DEBUG[key] == version) ?\n",
       "        Promise.resolve(paths[lib]) :\n",
       "        new Promise(function(resolve, reject) {\n",
       "          var s = document.createElement('script');\n",
       "          document.getElementsByTagName(\"head\")[0].appendChild(s);\n",
       "          s.async = true;\n",
       "          s.onload = () => {\n",
       "            VEGA_DEBUG[key] = version;\n",
       "            return resolve(paths[lib]);\n",
       "          };\n",
       "          s.onerror = () => reject(`Error loading script: ${paths[lib]}`);\n",
       "          s.src = paths[lib];\n",
       "        });\n",
       "    }\n",
       "\n",
       "    function showError(err) {\n",
       "      outputDiv.innerHTML = `<div class=\"error\" style=\"color:red;\">${err}</div>`;\n",
       "      throw err;\n",
       "    }\n",
       "\n",
       "    function displayChart(vegaEmbed) {\n",
       "      vegaEmbed(outputDiv, spec, embedOpt)\n",
       "        .catch(err => showError(`Javascript Error: ${err.message}<br>This usually means there's a typo in your chart specification. See the javascript console for the full traceback.`));\n",
       "    }\n",
       "\n",
       "    if(typeof define === \"function\" && define.amd) {\n",
       "      requirejs.config({paths});\n",
       "      require([\"vega-embed\"], displayChart, err => showError(`Error loading script: ${err.message}`));\n",
       "    } else {\n",
       "      maybeLoadScript(\"vega\", \"5\")\n",
       "        .then(() => maybeLoadScript(\"vega-lite\", \"5.2.0\"))\n",
       "        .then(() => maybeLoadScript(\"vega-embed\", \"6\"))\n",
       "        .catch(showError)\n",
       "        .then(() => displayChart(vegaEmbed));\n",
       "    }\n",
       "  })({\"config\": {\"view\": {\"continuousWidth\": 400, \"continuousHeight\": 300, \"stroke\": null}}, \"data\": {\"name\": \"data-ba288509446aa4a2a51abe953fd34da6\"}, \"mark\": \"bar\", \"encoding\": {\"color\": {\"field\": \"Method\", \"legend\": {\"labelFontSize\": 12, \"titleFontSize\": 15}, \"scale\": {\"range\": [\"#125ca4\", \"#9ecae9\"]}, \"type\": \"nominal\"}, \"x\": {\"axis\": {\"grid\": false, \"titleFontSize\": 15}, \"field\": \"Subset\", \"title\": \"Subset\", \"type\": \"ordinal\"}, \"xOffset\": {\"field\": \"Method\", \"type\": \"ordinal\"}, \"y\": {\"axis\": {\"labelFontSize\": 10, \"titleFontSize\": 15}, \"field\": \"Value\", \"title\": \"Training Time (Hours)\", \"type\": \"quantitative\"}}, \"height\": 200, \"width\": {\"step\": 100}, \"$schema\": \"https://vega.github.io/schema/vega-lite/v5.2.0.json\", \"datasets\": {\"data-ba288509446aa4a2a51abe953fd34da6\": [{\"Subset\": \"Bacterial Fluorescence\", \"Method\": \"Omnipose\", \"Value\": 3.546638888888889}, {\"Subset\": \"Bacterial Fluorescence\", \"Method\": \"H1\", \"Value\": 1.0558611111111111}, {\"Subset\": \"Bacterial Phase Contrast\", \"Method\": \"Omnipose\", \"Value\": 6.078138888888889}, {\"Subset\": \"Bacterial Phase Contrast\", \"Method\": \"H1\", \"Value\": 1.7370555555555554}, {\"Subset\": \"Worm\", \"Method\": \"Omnipose\", \"Value\": 1.278111111111111}, {\"Subset\": \"Worm\", \"Method\": \"H1\", \"Value\": 0.4361666666666667}]}}, {\"theme\": \"urbaninstitute\", \"mode\": \"vega-lite\"});\n",
       "</script>"
      ],
      "text/plain": [
       "alt.Chart(...)"
      ]
     },
     "execution_count": 3,
     "metadata": {},
     "output_type": "execute_result"
    }
   ],
   "source": [
    "alt.renderers.set_embed_options(theme = \"urbaninstitute\")\n",
    "bars = alt.Chart(source, width = alt.Step(100), height = 200).mark_bar().encode(\n",
    "    #column = alt.Column('Split:O', header = alt.Header(orient = \"bottom\")),\n",
    "    y = alt.Y(\"Value:Q\", axis = alt.Axis(titleFontSize = 15, labelFontSize = 10), title = \"Training Time (Hours)\"),\n",
    "    x = alt.X(\"Subset:O\", axis = alt.Axis(grid = False, titleFontSize = 15), title = \"Subset\"),\n",
    "    xOffset = \"Method:O\",\n",
    "    #column = alt.Column('Split:O'),\n",
    "    color = alt.Color(\n",
    "        \"Method\", \n",
    "        #scale = alt.Scale(scheme = \"category20\"),\n",
    "        scale = alt.Scale(range = [\"#125ca4\",\"#9ecae9\"]),\n",
    "        legend = alt.Legend(\n",
    "            titleFontSize = 15,\n",
    "            labelFontSize = 12,\n",
    "\n",
    "        )\n",
    "    ),\n",
    ").configure_view(stroke=None)\n",
    "\n",
    "bars"
   ]
  },
  {
   "cell_type": "code",
   "execution_count": null,
   "id": "7b8cd02f-9aee-4c92-b5e0-e43622fae629",
   "metadata": {},
   "outputs": [],
   "source": []
  }
 ],
 "metadata": {
  "kernelspec": {
   "display_name": "Python 3 (ipykernel)",
   "language": "python",
   "name": "python3"
  },
  "language_info": {
   "codemirror_mode": {
    "name": "ipython",
    "version": 3
   },
   "file_extension": ".py",
   "mimetype": "text/x-python",
   "name": "python",
   "nbconvert_exporter": "python",
   "pygments_lexer": "ipython3",
   "version": "3.8.10"
  }
 },
 "nbformat": 4,
 "nbformat_minor": 5
}
